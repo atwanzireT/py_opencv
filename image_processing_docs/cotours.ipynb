{
 "cells": [
  {
   "attachments": {},
   "cell_type": "markdown",
   "metadata": {},
   "source": [
    "#### Importing Libraries"
   ]
  },
  {
   "cell_type": "code",
   "execution_count": 32,
   "metadata": {},
   "outputs": [],
   "source": [
    "import cv2 as cv\n",
    "import numpy as np"
   ]
  },
  {
   "attachments": {},
   "cell_type": "markdown",
   "metadata": {},
   "source": [
    "#### Reading the Image Using CV2"
   ]
  },
  {
   "cell_type": "code",
   "execution_count": 33,
   "metadata": {},
   "outputs": [],
   "source": [
    "img = cv.imread(\"img/elton.jpg\")"
   ]
  },
  {
   "attachments": {},
   "cell_type": "markdown",
   "metadata": {},
   "source": [
    "#### Converting Image to Grayscale Format"
   ]
  },
  {
   "cell_type": "code",
   "execution_count": 34,
   "metadata": {},
   "outputs": [],
   "source": [
    "img_gray = cv.cvtColor(img, cv.COLOR_BGR2GRAY)"
   ]
  },
  {
   "attachments": {},
   "cell_type": "markdown",
   "metadata": {},
   "source": [
    "#### Applying Binary Thresholding"
   ]
  },
  {
   "cell_type": "code",
   "execution_count": 35,
   "metadata": {},
   "outputs": [],
   "source": [
    "# Applying Binary Thresholding\n",
    "ret, thresh = cv.threshold(img_gray, 150, 255, cv.THRESH_BINARY)"
   ]
  },
  {
   "attachments": {},
   "cell_type": "markdown",
   "metadata": {},
   "source": [
    "#### Finding Cotours"
   ]
  },
  {
   "cell_type": "code",
   "execution_count": 36,
   "metadata": {},
   "outputs": [
    {
     "data": {
      "text/plain": [
       "array([[[ 17,  17,  17],\n",
       "        [ 17,  17,  17],\n",
       "        [ 17,  17,  17],\n",
       "        ...,\n",
       "        [ 21,  21,  21],\n",
       "        [ 21,  21,  21],\n",
       "        [ 21,  21,  21]],\n",
       "\n",
       "       [[ 17,  17,  17],\n",
       "        [ 17,  17,  17],\n",
       "        [ 17,  17,  17],\n",
       "        ...,\n",
       "        [ 21,  21,  21],\n",
       "        [ 21,  21,  21],\n",
       "        [ 21,  21,  21]],\n",
       "\n",
       "       [[ 17,  17,  17],\n",
       "        [ 17,  17,  17],\n",
       "        [ 17,  17,  17],\n",
       "        ...,\n",
       "        [ 21,  21,  21],\n",
       "        [ 21,  21,  21],\n",
       "        [ 21,  21,  21]],\n",
       "\n",
       "       ...,\n",
       "\n",
       "       [[ 16,  16,  16],\n",
       "        [ 16,  16,  16],\n",
       "        [ 16,  16,  16],\n",
       "        ...,\n",
       "        [117,  98,  91],\n",
       "        [117,  98,  91],\n",
       "        [116,  97,  89]],\n",
       "\n",
       "       [[ 16,  16,  16],\n",
       "        [ 16,  16,  16],\n",
       "        [ 16,  16,  16],\n",
       "        ...,\n",
       "        [112,  94,  87],\n",
       "        [112,  93,  86],\n",
       "        [114,  95,  88]],\n",
       "\n",
       "       [[ 16,  16,  16],\n",
       "        [ 16,  16,  16],\n",
       "        [ 16,  16,  16],\n",
       "        ...,\n",
       "        [112,  93,  88],\n",
       "        [112,  93,  86],\n",
       "        [114,  95,  88]]], dtype=uint8)"
      ]
     },
     "execution_count": 36,
     "metadata": {},
     "output_type": "execute_result"
    }
   ],
   "source": [
    "# Detecting Contours in a binary image\n",
    "contours, hierarcy = cv.findContours(image = thresh, mode=cv.RETR_TREE, method = cv.CHAIN_APPROX_NONE)\n",
    "\n",
    "# Draw Contours on the original image\n",
    "image_copy = img.copy()\n",
    "cv.drawContours(image=image_copy, contours=contours, contourIdx=-1, color=(0, 255, 0), thickness=2, lineType=cv.LINE_AA)"
   ]
  },
  {
   "attachments": {},
   "cell_type": "markdown",
   "metadata": {},
   "source": [
    "#### Displaying the Image in the Frame"
   ]
  },
  {
   "cell_type": "code",
   "execution_count": 37,
   "metadata": {},
   "outputs": [
    {
     "data": {
      "text/plain": [
       "-1"
      ]
     },
     "execution_count": 37,
     "metadata": {},
     "output_type": "execute_result"
    }
   ],
   "source": [
    "cv.imshow(\"Image\", img)\n",
    "cv.imshow(\"Image GrayScale\", img_gray)\n",
    "cv.imshow('Binary image', thresh)\n",
    "cv.imshow('None approximation', image_copy)\n",
    "cv.waitKey(0)"
   ]
  },
  {
   "cell_type": "code",
   "execution_count": 38,
   "metadata": {},
   "outputs": [],
   "source": [
    "cv.imwrite('image_thres1.jpg', thresh)\n",
    "cv.destroyAllWindows()"
   ]
  }
 ],
 "metadata": {
  "kernelspec": {
   "display_name": "Python 3",
   "language": "python",
   "name": "python3"
  },
  "language_info": {
   "codemirror_mode": {
    "name": "ipython",
    "version": 3
   },
   "file_extension": ".py",
   "mimetype": "text/x-python",
   "name": "python",
   "nbconvert_exporter": "python",
   "pygments_lexer": "ipython3",
   "version": "3.10.0"
  },
  "orig_nbformat": 4,
  "vscode": {
   "interpreter": {
    "hash": "f5fc258e0ffd557889effea2a7f382be539216c89189c4995262c2bae13e51cf"
   }
  }
 },
 "nbformat": 4,
 "nbformat_minor": 2
}
