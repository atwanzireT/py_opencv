{
 "cells": [
  {
   "cell_type": "markdown",
   "id": "564aa2dc",
   "metadata": {},
   "source": [
    "### Introduction to OpenCV"
   ]
  },
  {
   "cell_type": "code",
   "execution_count": 1,
   "id": "97041b66",
   "metadata": {},
   "outputs": [],
   "source": [
    "# Importing openCV\n",
    "import cv2"
   ]
  },
  {
   "cell_type": "code",
   "execution_count": 2,
   "id": "a58ea757",
   "metadata": {},
   "outputs": [],
   "source": [
    "# reading images using the imread function\n",
    "image = cv2.imread(\"image.png\")"
   ]
  },
  {
   "cell_type": "code",
   "execution_count": 6,
   "id": "a3c6495d",
   "metadata": {},
   "outputs": [],
   "source": [
    "# extracting the width and height\n",
    "h, w = image.shape[:2]"
   ]
  },
  {
   "cell_type": "code",
   "execution_count": 7,
   "id": "a49a1bc5",
   "metadata": {},
   "outputs": [
    {
     "name": "stdout",
     "output_type": "stream",
     "text": [
      "height = 1603 width = 2400\n"
     ]
    }
   ],
   "source": [
    "# Displaying the height and width\n",
    "print(\"height = {} width = {}\".format(h, w))"
   ]
  },
  {
   "cell_type": "markdown",
   "id": "1a8794b4",
   "metadata": {},
   "source": [
    "#### Focusing on Extracting RGB colors\n",
    "- Note: OpenCV arranges channels in BGR order, so the 0th value will respond to Blue not Red "
   ]
  },
  {
   "cell_type": "code",
   "execution_count": 14,
   "id": "df02f5d5",
   "metadata": {},
   "outputs": [],
   "source": [
    "# Extracting RGB values. \n",
    "# Here we have randomly chosen a pixel\n",
    "# by passing in 100, 100 for height and width.\n",
    "(B, G, R) = image[100, 100]"
   ]
  },
  {
   "cell_type": "code",
   "execution_count": 15,
   "id": "5dd6ea40",
   "metadata": {},
   "outputs": [
    {
     "name": "stdout",
     "output_type": "stream",
     "text": [
      "B=165, G = 172, R =211\n"
     ]
    }
   ],
   "source": [
    "# Displaying the pixel values\n",
    "print(\"B={}, G = {}, R ={}\".format(B, G, R))"
   ]
  },
  {
   "cell_type": "code",
   "execution_count": 16,
   "id": "37604338",
   "metadata": {},
   "outputs": [
    {
     "name": "stdout",
     "output_type": "stream",
     "text": [
      "B = 165\n"
     ]
    }
   ],
   "source": [
    "# We can also pass the channel to extract \n",
    "# the value for a specific channel\n",
    "B = image[100, 100, 0]\n",
    "print(\"B = {}\".format(B))"
   ]
  },
  {
   "cell_type": "markdown",
   "id": "2ec75850",
   "metadata": {},
   "source": [
    "#### Extracting Region of Interest - ROI"
   ]
  },
  {
   "cell_type": "code",
   "execution_count": 20,
   "id": "fd06ad92",
   "metadata": {},
   "outputs": [],
   "source": [
    "# We will calculate the region of interest \n",
    "# by slicing the pixels of the image\n",
    "roi = image[100 : 500, 200 : 700]"
   ]
  },
  {
   "cell_type": "code",
   "execution_count": 21,
   "id": "75a042ec",
   "metadata": {},
   "outputs": [],
   "source": [
    "# resize() function takes 2 parameters, \n",
    "# the image and the dimensions\n",
    "resize = cv2.resize(image, (800, 800))"
   ]
  },
  {
   "cell_type": "code",
   "execution_count": 22,
   "id": "6edfca00",
   "metadata": {},
   "outputs": [],
   "source": [
    "# Calculating the ratio\n",
    "ratio = 800 / w\n",
    "  \n",
    "# Creating a tuple containing width and height\n",
    "dim = (800, int(h * ratio))\n",
    "  \n",
    "# Resizing the image\n",
    "resize_aspect = cv2.resize(image, dim)"
   ]
  },
  {
   "cell_type": "code",
   "execution_count": null,
   "id": "71555135",
   "metadata": {},
   "outputs": [],
   "source": []
  }
 ],
 "metadata": {
  "kernelspec": {
   "display_name": "Python 3 (ipykernel)",
   "language": "python",
   "name": "python3"
  },
  "language_info": {
   "codemirror_mode": {
    "name": "ipython",
    "version": 3
   },
   "file_extension": ".py",
   "mimetype": "text/x-python",
   "name": "python",
   "nbconvert_exporter": "python",
   "pygments_lexer": "ipython3",
   "version": "3.10.0"
  }
 },
 "nbformat": 4,
 "nbformat_minor": 5
}
