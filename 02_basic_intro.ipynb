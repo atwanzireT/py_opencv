{
 "cells": [
  {
   "cell_type": "markdown",
   "id": "e1c39dfb",
   "metadata": {},
   "source": [
    "### Introduction to OpenCV"
   ]
  },
  {
   "cell_type": "code",
   "execution_count": 1,
   "id": "2133e035",
   "metadata": {},
   "outputs": [],
   "source": [
    "# Importing openCV\n",
    "import cv2"
   ]
  },
  {
   "cell_type": "code",
   "execution_count": 2,
   "id": "857866df",
   "metadata": {},
   "outputs": [],
   "source": [
    "# reading images using the imread function\n",
    "image = cv2.imread(\"image.png\")"
   ]
  },
  {
   "cell_type": "code",
   "execution_count": 6,
   "id": "ad044028",
   "metadata": {},
   "outputs": [],
   "source": [
    "# extracting the width and height\n",
    "h, w = image.shape[:2]"
   ]
  },
  {
   "cell_type": "code",
   "execution_count": 7,
   "id": "94e6aa91",
   "metadata": {},
   "outputs": [
    {
     "name": "stdout",
     "output_type": "stream",
     "text": [
      "height = 1603 width = 2400\n"
     ]
    }
   ],
   "source": [
    "# Displaying the height and width\n",
    "print(\"height = {} width = {}\".format(h, w))"
   ]
  },
  {
   "cell_type": "markdown",
   "id": "4da368df",
   "metadata": {},
   "source": [
    "#### Focusing on Extracting RGB colors\n",
    "- Note: OpenCV arranges channels in BGR order, so the 0th value will respond to Blue not Red "
   ]
  },
  {
   "cell_type": "code",
   "execution_count": 14,
   "id": "f84f4c4a",
   "metadata": {},
   "outputs": [],
   "source": [
    "# Extracting RGB values. \n",
    "# Here we have randomly chosen a pixel\n",
    "# by passing in 100, 100 for height and width.\n",
    "(B, G, R) = image[100, 100]"
   ]
  },
  {
   "cell_type": "code",
   "execution_count": 15,
   "id": "b35ea795",
   "metadata": {},
   "outputs": [
    {
     "name": "stdout",
     "output_type": "stream",
     "text": [
      "B=165, G = 172, R =211\n"
     ]
    }
   ],
   "source": [
    "# Displaying the pixel values\n",
    "print(\"B={}, G = {}, R ={}\".format(B, G, R))"
   ]
  },
  {
   "cell_type": "code",
   "execution_count": 16,
   "id": "fd7dd81b",
   "metadata": {},
   "outputs": [
    {
     "name": "stdout",
     "output_type": "stream",
     "text": [
      "B = 165\n"
     ]
    }
   ],
   "source": [
    "# We can also pass the channel to extract \n",
    "# the value for a specific channel\n",
    "B = image[100, 100, 0]\n",
    "print(\"B = {}\".format(B))"
   ]
  },
  {
   "cell_type": "markdown",
   "id": "18e4b5e6",
   "metadata": {},
   "source": [
    "#### Extracting Region of Interest - ROI"
   ]
  },
  {
   "cell_type": "code",
   "execution_count": 20,
   "id": "4ed7e5ca",
   "metadata": {},
   "outputs": [],
   "source": [
    "# We will calculate the region of interest \n",
    "# by slicing the pixels of the image\n",
    "roi = image[100 : 500, 200 : 700]"
   ]
  },
  {
   "cell_type": "code",
   "execution_count": 21,
   "id": "31f935f5",
   "metadata": {},
   "outputs": [],
   "source": [
    "# resize() function takes 2 parameters, \n",
    "# the image and the dimensions\n",
    "resize = cv2.resize(image, (800, 800))"
   ]
  },
  {
   "cell_type": "code",
   "execution_count": 22,
   "id": "4824c1be",
   "metadata": {},
   "outputs": [],
   "source": [
    "# Calculating the ratio\n",
    "ratio = 800 / w\n",
    "  \n",
    "# Creating a tuple containing width and height\n",
    "dim = (800, int(h * ratio))\n",
    "  \n",
    "# Resizing the image\n",
    "resize_aspect = cv2.resize(image, dim)"
   ]
  },
  {
   "cell_type": "code",
   "execution_count": null,
   "id": "504b90e9",
   "metadata": {},
   "outputs": [],
   "source": []
  }
 ],
 "metadata": {
  "kernelspec": {
   "display_name": "Python 3 (ipykernel)",
   "language": "python",
   "name": "python3"
  },
  "language_info": {
   "codemirror_mode": {
    "name": "ipython",
    "version": 3
   },
   "file_extension": ".py",
   "mimetype": "text/x-python",
   "name": "python",
   "nbconvert_exporter": "python",
   "pygments_lexer": "ipython3",
   "version": "3.10.0"
  }
 },
 "nbformat": 4,
 "nbformat_minor": 5
}
